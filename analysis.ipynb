{
 "cells": [
  {
   "cell_type": "code",
   "execution_count": 1,
   "metadata": {},
   "outputs": [],
   "source": [
    "import json\n",
    "import numpy as np\n",
    "import matplotlib.pyplot as plt\n",
    "import re"
   ]
  },
  {
   "cell_type": "code",
   "execution_count": null,
   "metadata": {},
   "outputs": [],
   "source": [
    "def extract_run_time(trial):\n",
    "    for line in trial.split('\\n'):\n",
    "        if 'Test took' in line:\n",
    "            time_str = re.findall(\"\\d+\\.\\d+\", line)[0]\n",
    "            time = float(time_str)\n",
    "            # compute units\n",
    "            unit = line[10 + len(time_str):]\n",
    "            if unit == 'ms':\n",
    "                time *= 1000\n",
    "            if unit == 'us':\n",
    "                time *= 1_000_000\n",
    "            return time\n",
    "    return 0.0\n",
    "\n",
    "\n",
    "def extract_experiments(file_name):\n",
    "    result = {}\n",
    "    with open(file_name) as f:\n",
    "        parsed_json = json.load(f)\n",
    "        for expt in parsed_json.keys():\n",
    "            trials = parsed_json[expt]\n",
    "            trial_times = []\n",
    "            for trial in trials:\n",
    "                trial_times.append(extract_run_time(trial))\n",
    "            avg = np.average(np.array(trial_times))\n",
    "            result[expt] = avg\n",
    "\n",
    "    return result\n",
    "\n",
    "\n",
    "def aggregate_experiment(paxos_expts, mencius_expts, epaxos_expts):\n",
    "    aggregate_expts = {}\n",
    "    # Assumes each expriment shares the same key\n",
    "    for expt in paxos_expts.keys():\n",
    "        paxos_avg = paxos_expts[expt]\n",
    "        mencius_avg = mencius_expts[expt]\n",
    "        epaxos_avg = epaxos_expts[expt]\n",
    "\n",
    "        aggregate_expts[expt] = ([paxos_avg, mencius_avg, epaxos_avg], [\"paxos\", \"mencius\", \"epaxos\"])\n",
    "    \n",
    "    return aggregate_expts\n",
    "\n"
   ]
  },
  {
   "cell_type": "code",
   "execution_count": null,
   "metadata": {},
   "outputs": [],
   "source": [
    "def plot_expt(expt, aggregate_expts):\n",
    "    (expt_avgs, expt_labels) = aggregate_expts[expt]\n",
    "\n",
    "    # Define a list of colors for the bars\n",
    "    colors = ['blue', 'green', 'red']\n",
    "\n",
    "    # Create the bar plot\n",
    "    plt.figure(figsize=(8, 6))  # Adjust figure size as desired\n",
    "    bars = plt.bar(expt_labels, expt_avgs, color=colors)\n",
    "\n",
    "    # Add labels and title\n",
    "    plt.xlabel(\"Protocols\")\n",
    "    plt.ylabel(\"100,000 packet Completion time\")\n",
    "    plt.title(\"Skewed Workload Evaluation\")\n",
    "\n",
    "    # Set x-axis tick positions to center bars\n",
    "    plt.xticks(range(len(expt_labels)), expt_labels, rotation=0)  # Adjust rotation for long labels\n",
    "\n",
    "    # Display the graph\n",
    "    plt.show()"
   ]
  },
  {
   "cell_type": "code",
   "execution_count": null,
   "metadata": {},
   "outputs": [],
   "source": [
    "# Example plot\n",
    "\n",
    "# Extract experiment data for all protocols\n",
    "paxos_expts = extract_experiments(\"skewed_workload_paxos.json\")\n",
    "mencius_expts = extract_experiments(\"skewed_workload_mencius.json\")\n",
    "epaxos_expts = extract_experiments(\"skewed_workload_epaxos.json\")\n",
    "\n",
    "# aggregate different expts into format for plotting\n",
    "aggregate_expts = aggregate_experiment(paxos_expts, mencius_expts, epaxos_expts)\n",
    "\n",
    "# plot specific experiment of interest\n",
    "plot_expt(\"-1,0\", aggregate_expts)"
   ]
  }
 ],
 "metadata": {
  "kernelspec": {
   "display_name": ".venv",
   "language": "python",
   "name": "python3"
  },
  "language_info": {
   "codemirror_mode": {
    "name": "ipython",
    "version": 3
   },
   "file_extension": ".py",
   "mimetype": "text/x-python",
   "name": "python",
   "nbconvert_exporter": "python",
   "pygments_lexer": "ipython3",
   "version": "3.10.12"
  }
 },
 "nbformat": 4,
 "nbformat_minor": 2
}
