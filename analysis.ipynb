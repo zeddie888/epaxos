{
 "cells": [
  {
   "cell_type": "code",
   "execution_count": 1,
   "metadata": {},
   "outputs": [],
   "source": [
    "import json\n",
    "import numpy as np\n",
    "import matplotlib\n",
    "import re"
   ]
  },
  {
   "cell_type": "code",
   "execution_count": null,
   "metadata": {},
   "outputs": [],
   "source": [
    "def extract_run_time(trial):\n",
    "    for line in trial.split('\\n'):\n",
    "        if 'Test took' in line:\n",
    "            time_str = re.findall(\"\\d+\\.\\d+\", line)[0]\n",
    "            time = float(time_str)\n",
    "            # compute units\n",
    "            unit = line[10 + len(time_str):]\n",
    "            if unit == 'ms':\n",
    "                time *= 1000\n",
    "            if unit == 'us':\n",
    "                time *= 1_000_000\n",
    "            return time\n",
    "    return 0.0\n",
    "\n",
    "\n",
    "def extract_experiments(file_name):\n",
    "    result = {}\n",
    "    with open(file_name) as f:\n",
    "        parsed_json = json.load(f)\n",
    "        for expt in parsed_json.keys():\n",
    "            trials = parsed_json[expt]\n",
    "            trial_times = []\n",
    "            for trial in trials:\n",
    "                trial_times.append(extract_run_time(trial))\n",
    "            avg = np.average(np.array(trial_times))\n",
    "            result[expt] = avg\n",
    "\n",
    "    return result\n"
   ]
  }
 ],
 "metadata": {
  "kernelspec": {
   "display_name": ".venv",
   "language": "python",
   "name": "python3"
  },
  "language_info": {
   "codemirror_mode": {
    "name": "ipython",
    "version": 3
   },
   "file_extension": ".py",
   "mimetype": "text/x-python",
   "name": "python",
   "nbconvert_exporter": "python",
   "pygments_lexer": "ipython3",
   "version": "3.10.12"
  }
 },
 "nbformat": 4,
 "nbformat_minor": 2
}
